{
 "cells": [
  {
   "cell_type": "markdown",
   "id": "038dc534",
   "metadata": {},
   "source": [
    "### Import Library"
   ]
  },
  {
   "cell_type": "code",
   "execution_count": 1,
   "id": "db2a2ecf",
   "metadata": {},
   "outputs": [],
   "source": [
    "import cv2 as cv\n",
    "import numpy as np\n",
    "from matplotlib import pyplot as plt"
   ]
  },
  {
   "cell_type": "code",
   "execution_count": 2,
   "id": "b565fea5",
   "metadata": {},
   "outputs": [],
   "source": [
    "daun = cv.imread ('Image/daun.jpg',0)\n",
    "tinggi, lebar = daun.shape"
   ]
  },
  {
   "cell_type": "code",
   "execution_count": 3,
   "id": "a2c61880",
   "metadata": {},
   "outputs": [],
   "source": [
    "cv.imshow(\"Citra Asli\", daun)\n",
    "cv.waitKey(0)\n",
    "cv.destroyAllWindows()"
   ]
  },
  {
   "cell_type": "markdown",
   "id": "ed7e8201",
   "metadata": {},
   "source": [
    "### Pengembangan Dwi Aras dengan Perkiraan Nilai Ambang|"
   ]
  },
  {
   "cell_type": "code",
   "execution_count": 4,
   "id": "25554465",
   "metadata": {},
   "outputs": [],
   "source": [
    "nilai_ambang = 131\n",
    "daun_hasil = daun.copy()\n",
    "for x in range (tinggi):\n",
    "    for y in range(lebar):\n",
    "        if daun[x,y] < nilai_ambang:\n",
    "            daun_hasil[x,y] = 0\n",
    "        else:\n",
    "            daun_hasil[x,y] = 225"
   ]
  },
  {
   "cell_type": "code",
   "execution_count": 5,
   "id": "4120bcd5",
   "metadata": {},
   "outputs": [],
   "source": [
    "cv.imshow(\"Aras Daun\", daun_hasil)\n",
    "cv.waitKey(0)\n",
    "cv.destroyAllWindows()"
   ]
  },
  {
   "cell_type": "markdown",
   "id": "60457bee",
   "metadata": {},
   "source": [
    "### Menentukan Nilai Ambang Suatu Citra"
   ]
  },
  {
   "cell_type": "code",
   "execution_count": 6,
   "id": "c2f2549f",
   "metadata": {},
   "outputs": [],
   "source": [
    "def titerarif(image):\n",
    "    tinggi, lebar = image.shape\n",
    "    t0 = 127\n",
    "    while(True):\n",
    "        rata_kiri = 0;\n",
    "        rata_kanan = 0; \n",
    "        jum_kiri = 0;\n",
    "        jum_kanan = 0;\n",
    "        for x in range (tinggi):\n",
    "            for y in range(lebar):\n",
    "                 if(image[x,y] <= 127):\n",
    "                    rata_kiri = rata_kiri + image[x,y]\n",
    "                    jum_kiri = jum_kiri + 1\n",
    "                 else:\n",
    "                    rata_kanan = rata_kanan + image[x,y]\n",
    "                    jum_kanan = jum_kanan + 1\n",
    "                        \n",
    "        rata_kiri = rata_kiri / jum_kiri\n",
    "        rata_kanan = rata_kanan / jum_kanan\n",
    "        t1 = ((rata_kiri + rata_kanan)/2)\n",
    "        if ((t0 - t1) < 1):\n",
    "             break\n",
    "        t0 = t1\n",
    "    return round(t1)"
   ]
  },
  {
   "cell_type": "code",
   "execution_count": 7,
   "id": "f0533be2",
   "metadata": {},
   "outputs": [
    {
     "data": {
      "text/plain": [
       "131"
      ]
     },
     "execution_count": 7,
     "metadata": {},
     "output_type": "execute_result"
    }
   ],
   "source": [
    "titerarif(daun)"
   ]
  },
  {
   "cell_type": "markdown",
   "id": "39cb723d",
   "metadata": {},
   "source": [
    "### Aras Jamak"
   ]
  },
  {
   "cell_type": "code",
   "execution_count": 8,
   "id": "6cf84189",
   "metadata": {},
   "outputs": [],
   "source": [
    "bentuk = cv.imread ('Image/arasJamak.jpg',0)\n",
    "tinggi, lebar = daun.shape"
   ]
  },
  {
   "cell_type": "code",
   "execution_count": 9,
   "id": "9378d86a",
   "metadata": {},
   "outputs": [],
   "source": [
    "def arasjamak(image, t1, t2):\n",
    "    res = image\n",
    "    m,n = image.shape\n",
    "    for x in range(m):\n",
    "        for y in range(n):\n",
    "            if(image[x,y] <= t1) or (image[x,y] >= t2):\n",
    "                res[x,y] = 0 \n",
    "            else:\n",
    "                res[x,y] = 255\n",
    "    return res"
   ]
  },
  {
   "cell_type": "code",
   "execution_count": 10,
   "id": "191256dc",
   "metadata": {},
   "outputs": [],
   "source": [
    "bentukArasJamak = arasjamak(bentuk, 185, 200)"
   ]
  },
  {
   "cell_type": "code",
   "execution_count": 11,
   "id": "9592a9a2",
   "metadata": {},
   "outputs": [],
   "source": [
    "cv.imshow(\"Gambar Aras Jamak\", bentukArasJamak)\n",
    "cv.waitKey(0)\n",
    "cv.destroyAllWindows()"
   ]
  },
  {
   "cell_type": "code",
   "execution_count": null,
   "id": "d45f18c8",
   "metadata": {},
   "outputs": [],
   "source": []
  }
 ],
 "metadata": {
  "kernelspec": {
   "display_name": "Python 3 (ipykernel)",
   "language": "python",
   "name": "python3"
  },
  "language_info": {
   "codemirror_mode": {
    "name": "ipython",
    "version": 3
   },
   "file_extension": ".py",
   "mimetype": "text/x-python",
   "name": "python",
   "nbconvert_exporter": "python",
   "pygments_lexer": "ipython3",
   "version": "3.11.2"
  }
 },
 "nbformat": 4,
 "nbformat_minor": 5
}
